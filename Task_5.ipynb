{
 "cells": [
  {
   "cell_type": "markdown",
   "metadata": {},
   "source": [
    "# Линейная регрессия"
   ]
  },
  {
   "cell_type": "markdown",
   "metadata": {},
   "source": [
    "Данные содержатся в файле `data/lin_reg.txt`. Прочитать их можно следующим так:"
   ]
  },
  {
   "cell_type": "code",
   "execution_count": 2,
   "metadata": {},
   "outputs": [],
   "source": [
    "import numpy as np\n",
    "D = np.loadtxt('../data/lin_reg.txt', delimiter=',')\n",
    "X = D[:, :-1]\n",
    "Y = D[:, -1]"
   ]
  },
  {
   "cell_type": "markdown",
   "metadata": {},
   "source": [
    "При выполнении заданий **нельзя** пользоваться `scikit-learn` и т.п., только `numpy` и `matplotlib`.\n",
    "\n",
    "1. Нарисуйте график среднеквадратичной ошибки в зависимости от параметра регуляризации $\\alpha$, используя полные данные для обучения и для тестирования. \n",
    "2. Подготовьте исходные данные для 5 fold CV.\n",
    "3. С помощью CV найдите оптимальное значение $\\alpha$ на какой-нибудь сетке значений.\n",
    "4. Постройте валидационную кривую. \n",
    "5. Постройте кривую обучения."
   ]
  },
  {
   "cell_type": "code",
   "execution_count": 3,
   "metadata": {},
   "outputs": [
    {
     "data": {
      "text/plain": [
       "Text(0.5,1,'Histogram of Y')"
      ]
     },
     "execution_count": 3,
     "metadata": {},
     "output_type": "execute_result"
    }
   ],
   "source": [
    "import matplotlib.pyplot as plt\n",
    "plt.hist(Y)\n",
    "plt.title(\"Histogram of Y\")"
   ]
  },
  {
   "cell_type": "code",
   "execution_count": 4,
   "metadata": {},
   "outputs": [
    {
     "data": {
      "image/png": "[encoded data removed]",
      "text/plain": [
       "<Figure size 432x288 with 1 Axes>"
      ]
     },
     "metadata": {
      "needs_background": "light"
     },
     "output_type": "display_data"
    },
    {
     "data": {
      "image/png": "[encoded data removed]",
      "text/plain": [
       "<Figure size 432x288 with 1 Axes>"
      ]
     },
     "metadata": {
      "needs_background": "light"
     },
     "output_type": "display_data"
    },
    {
     "data": {
      "image/png": "[encoded data removed]",
      "text/plain": [
       "<Figure size 432x288 with 1 Axes>"
      ]
     },
     "metadata": {
      "needs_background": "light"
     },
     "output_type": "display_data"
    },
    {
     "data": {
      "image/png": "[encoded data removed]",
      "text/plain": [
       "<Figure size 432x288 with 1 Axes>"
      ]
     },
     "metadata": {
      "needs_background": "light"
     },
     "output_type": "display_data"
    }
   ],
   "source": [
    "for i, column in enumerate(X.T):\n",
    "    plt.figure(i)\n",
    "    plt.hist(column)"
   ]
  },
  {
   "cell_type": "code",
   "execution_count": 5,
   "metadata": {},
   "outputs": [],
   "source": [
    "def solve(alpha):\n",
    "    theta = np.linalg.inv(X.T @ X + alpha * np.identity(X.shape[1])) @ X.T @ Y\n",
    "    return theta"
   ]
  },
  {
   "cell_type": "code",
   "execution_count": 6,
   "metadata": {},
   "outputs": [],
   "source": [
    "X = np.hstack((np.ones((X.shape[0],1)), X))"
   ]
  },
  {
   "cell_type": "code",
   "execution_count": 7,
   "metadata": {},
   "outputs": [
    {
     "data": {
      "image/png": "[encoded data removed]",
      "text/plain": [
       "<Figure size 432x288 with 1 Axes>"
      ]
     },
     "metadata": {
      "needs_background": "light"
     },
     "output_type": "display_data"
    }
   ],
   "source": [
    "alphas = np.linspace(0, 100, num = 1000)\n",
    "\n",
    "plt.figure(0)\n",
    "plt.xlabel(\"alpha\")\n",
    "plt.ylabel(\"RMSE\")\n",
    "plt.title(\"Error curve\")\n",
    "plt.ylim(9.7425, 9.761)\n",
    "\n",
    "for alpha in alphas:\n",
    "    theta = solve(alpha)\n",
    "    \n",
    "    Y_pred = 0\n",
    "    for i in range(0, X.shape[1]):\n",
    "        Y_pred += theta[i]*X[:,i]\n",
    "    \n",
    "    rmse = np.sqrt(np.sum(np.square(Y_pred - Y))/Y.shape[0])\n",
    "    plt.plot(alpha, rmse, 'go')"
   ]
  },
  {
   "cell_type": "code",
   "execution_count": 8,
   "metadata": {},
   "outputs": [],
   "source": [
    "def cv_alpha(nfolds):\n",
    "    alphas = np.linspace(0, 10000, num = 1000)\n",
    "    rmse_min = 999999\n",
    "    best_alpha = 0\n",
    "    \n",
    "    rmse_history = list()\n",
    "    for alpha in alphas:\n",
    "        step = int(X.shape[0]/nfolds)\n",
    "        \n",
    "        rmse_folds_training = list()\n",
    "        rmse_folds_validation = list()\n",
    "        \n",
    "        for fold in range(0, nfolds):\n",
    "            test_start = step*fold\n",
    "            test_end = step*fold + step\n",
    "            \n",
    "            X_train1 = X[0:test_start,:]\n",
    "            X_train2 = X[test_end:,:]\n",
    "            Y_train1 = Y[0:test_start]\n",
    "            Y_train2 = Y[test_end:]\n",
    "\n",
    "            X_train = np.vstack((X_train1, X_train2))\n",
    "            Y_train = np.concatenate((Y_train1, Y_train2))\n",
    "            X_test = X[test_start:test_end,:]\n",
    "            Y_test = Y[test_start:test_end]\n",
    "\n",
    "            theta = np.linalg.inv(X_train.T @ X_train + alpha * np.identity(X_train.shape[1])) @ X_train.T @ Y_train\n",
    "            \n",
    "            Y_validation = 0\n",
    "            for i in range(0, X_test.shape[1]):\n",
    "                Y_validation += theta[i]*X_test[:,i]\n",
    "                \n",
    "            Y_pred_train = 0\n",
    "            for i in range(0, X_train.shape[1]):\n",
    "                Y_pred_train += theta[i]*X_train[:,i]\n",
    "            \n",
    "            \n",
    "            rmse_folds_validation.append(np.sqrt(np.sum(np.square(Y_validation - Y_test))/Y_test.shape[0]))\n",
    "            rmse_folds_training.append(np.sqrt(np.sum(np.square(Y_pred_train - Y_train))/Y_train.shape[0]))\n",
    "            \n",
    "        rmse_validation = np.mean(rmse_folds_validation)\n",
    "        rmse_training = np.mean(rmse_folds_training)\n",
    "        rmse_history.append((alpha, rmse_validation, rmse_training))\n",
    "    return rmse_history\n",
    "\n",
    "cv = cv_alpha(5)"
   ]
  },
  {
   "cell_type": "code",
   "execution_count": 9,
   "metadata": {},
   "outputs": [
    {
     "name": "stdout",
     "output_type": "stream",
     "text": [
      "3163.163163163163\n"
     ]
    }
   ],
   "source": [
    "tradeoff = 99999\n",
    "\n",
    "for i in cv:\n",
    "    bias_variance = np.abs(i[2] - i[1])\n",
    "    if bias_variance < tradeoff:\n",
    "        tradeoff = bias_variance\n",
    "        best_alpha = i[0]\n",
    "        \n",
    "print(best_alpha)"
   ]
  },
  {
   "cell_type": "code",
   "execution_count": 10,
   "metadata": {},
   "outputs": [
    {
     "data": {
      "image/png": "[encoded data removed]",
      "text/plain": [
       "<Figure size 432x288 with 1 Axes>"
      ]
     },
     "metadata": {
      "needs_background": "light"
     },
     "output_type": "display_data"
    }
   ],
   "source": [
    "plt.xlabel(\"alpha\")\n",
    "plt.ylabel(\"RMSE\")\n",
    "plt.title(\"Validation curve\")\n",
    "for i in cv:\n",
    "    plt.plot(i[0], i[1], 'go')"
   ]
  },
  {
   "cell_type": "code",
   "execution_count": 11,
   "metadata": {},
   "outputs": [
    {
     "data": {
      "image/png": "[encoded data removed]",
      "text/plain": [
       "<Figure size 432x288 with 1 Axes>"
      ]
     },
     "metadata": {
      "needs_background": "light"
     },
     "output_type": "display_data"
    }
   ],
   "source": [
    "plt.xlabel(\"alpha\")\n",
    "plt.ylabel(\"RMSE\")\n",
    "plt.title(\"Training curve\")\n",
    "for i in cv:\n",
    "    plt.plot(i[0], i[2], 'go')"
   ]
  }
 ],
 "metadata": {
  "kernelspec": {
   "display_name": "Python 3",
   "language": "python",
   "name": "python3"
  },
  "language_info": {
   "codemirror_mode": {
    "name": "ipython",
    "version": 3
   },
   "file_extension": ".py",
   "mimetype": "text/x-python",
   "name": "python",
   "nbconvert_exporter": "python",
   "pygments_lexer": "ipython3",
   "version": "3.6.4"
  }
 },
 "nbformat": 4,
 "nbformat_minor": 2
}
