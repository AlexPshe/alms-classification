{
 "cells": [
  {
   "cell_type": "code",
   "execution_count": 2,
   "metadata": {},
   "outputs": [],
   "source": [
    "import numpy as np\n",
    "import scipy as sp\n",
    "import matplotlib.pyplot as plt\n",
    "import seaborn as sns\n",
    "\n",
    "%matplotlib inline"
   ]
  },
  {
   "cell_type": "markdown",
   "metadata": {},
   "source": [
    "# 1. Работа с массивами NumPy"
   ]
  },
  {
   "cell_type": "markdown",
   "metadata": {},
   "source": [
    "**N. Все упражнения ниже нужно делать без использования циклов Python**\n",
    "\n",
    "**1.** Cоздать вектор\n",
    "\n",
    "$$(2, \\frac{2^2}{2}, \\ldots, \\frac{2^{20}}{20})$$\n",
    "\n",
    "Можно использовать функции [np.arange()](http://docs.scipy.org/doc/numpy/reference/generated/numpy.arange.html), [np.ones()](http://docs.scipy.org/doc/numpy/reference/generated/numpy.ones.html)"
   ]
  },
  {
   "cell_type": "code",
   "execution_count": 3,
   "metadata": {},
   "outputs": [
    {
     "data": {
      "text/plain": [
       "array([2.00000000e+00, 2.00000000e+00, 2.66666667e+00, 4.00000000e+00,\n",
       "       6.40000000e+00, 1.06666667e+01, 1.82857143e+01, 3.20000000e+01,\n",
       "       5.68888889e+01, 1.02400000e+02, 1.86181818e+02, 3.41333333e+02,\n",
       "       6.30153846e+02, 1.17028571e+03, 2.18453333e+03, 4.09600000e+03,\n",
       "       7.71011765e+03, 1.45635556e+04, 2.75941053e+04, 5.24288000e+04])"
      ]
     },
     "execution_count": 3,
     "metadata": {},
     "output_type": "execute_result"
    }
   ],
   "source": [
    "2 ** np.arange(1, 21) / np.arange(1, 21)"
   ]
  },
  {
   "cell_type": "markdown",
   "metadata": {},
   "source": [
    "**2.** Посчитать:\n",
    "\n",
    "$$\\sum\\limits_{i=0}^{5}{0.1^{3i}0.2^{4i}}$$\n"
   ]
  },
  {
   "cell_type": "code",
   "execution_count": 4,
   "metadata": {},
   "outputs": [
    {
     "data": {
      "text/plain": [
       "1.00000160000256"
      ]
     },
     "execution_count": 4,
     "metadata": {},
     "output_type": "execute_result"
    }
   ],
   "source": [
    "sum(0.1 ** (3 * np.arange(6)) * 0.2 ** (4 * np.arange(6)))"
   ]
  },
  {
   "cell_type": "markdown",
   "metadata": {},
   "source": [
    "**3.** Создать нулевую матрицe $8 \\times 8$, и заполнить её единицами в шахматном порядке."
   ]
  },
  {
   "cell_type": "code",
   "execution_count": 5,
   "metadata": {},
   "outputs": [
    {
     "data": {
      "text/plain": [
       "array([[0, 1, 0, 1, 0, 1, 0, 1],\n",
       "       [1, 0, 1, 0, 1, 0, 1, 0],\n",
       "       [0, 1, 0, 1, 0, 1, 0, 1],\n",
       "       [1, 0, 1, 0, 1, 0, 1, 0],\n",
       "       [0, 1, 0, 1, 0, 1, 0, 1],\n",
       "       [1, 0, 1, 0, 1, 0, 1, 0],\n",
       "       [0, 1, 0, 1, 0, 1, 0, 1],\n",
       "       [1, 0, 1, 0, 1, 0, 1, 0]])"
      ]
     },
     "execution_count": 5,
     "metadata": {},
     "output_type": "execute_result"
    }
   ],
   "source": [
    "np.tile(np.array([[0,1],[1,0]]), (4,4))"
   ]
  },
  {
   "cell_type": "markdown",
   "metadata": {},
   "source": [
    "**4.** Есть 5 точек в декартовой системе координат (в виде матрицы $X$ размерностью $5 \\times 2$), сконвертируйте эти точки в полярную систему координат."
   ]
  },
  {
   "cell_type": "code",
   "execution_count": 6,
   "metadata": {},
   "outputs": [
    {
     "name": "stdout",
     "output_type": "stream",
     "text": [
      "[[0.46485619 0.12798948]\n",
      " [0.18560589 0.28270449]\n",
      " [0.57684387 0.07113769]\n",
      " [0.88777017 0.45858445]\n",
      " [0.83109272 0.76049727]]\n",
      "[0.48215411 0.33818837 0.58121375 0.99921748 1.12653061]\n",
      "[0.26867424 0.98983956 0.12270273 0.4768058  0.74107191]\n"
     ]
    }
   ],
   "source": [
    "X = np.random.random((5, 2))\n",
    "print(X)\n",
    "Z,Y = X[:,0], X[:,1]\n",
    "print(np.hypot(Z, Y))\n",
    "print(np.arctan2(Y,Z))"
   ]
  },
  {
   "cell_type": "markdown",
   "metadata": {},
   "source": [
    "**5.** Найдите индексы максимального элемента в случайной матрице $10 \\times 10$.\n",
    "\n",
    "Cм. [np.argmax()](http://docs.scipy.org/doc/numpy/reference/generated/numpy.argmax.html)."
   ]
  },
  {
   "cell_type": "code",
   "execution_count": 11,
   "metadata": {},
   "outputs": [
    {
     "data": {
      "text/plain": [
       "33"
      ]
     },
     "execution_count": 11,
     "metadata": {},
     "output_type": "execute_result"
    }
   ],
   "source": [
    "X = np.random.random((10, 10))\n",
    "np.argmax(X)"
   ]
  },
  {
   "cell_type": "markdown",
   "metadata": {},
   "source": [
    "**6.** Есть 10 точек ($X$) и ещё одна ($y$). Найти в $X$ ближайшую к $y$ точку."
   ]
  },
  {
   "cell_type": "code",
   "execution_count": 73,
   "metadata": {},
   "outputs": [
    {
     "data": {
      "text/plain": [
       "4"
      ]
     },
     "execution_count": 73,
     "metadata": {},
     "output_type": "execute_result"
    }
   ],
   "source": [
    "X = np.random.random((10, 2))\n",
    "y = np.random.random((1, 2))\n",
    "Z = (X - np.ones((10, 2))*y)**2\n",
    "np.argmin((Z.sum(axis=1))**(1/2))"
   ]
  },
  {
   "cell_type": "markdown",
   "metadata": {},
   "source": [
    "**7.** Дана функция:\n",
    "\n",
    "$$\n",
    " \\begin{cases}\n",
    "    x^2 + 2x + 6, & x < 0  \\\\\n",
    "    x + 6, & 0 \\le x \\le 2 \\\\\n",
    "    x^2 + 4x - 4, & x \\ge 2\n",
    " \\end{cases}\n",
    "$$\n",
    "\n",
    "Постройте массив из её значений на  $-3 \\le x \\le 3$."
   ]
  },
  {
   "cell_type": "code",
   "execution_count": 13,
   "metadata": {},
   "outputs": [
    {
     "data": {
      "text/plain": [
       "array([ 9,  6,  5,  6,  7,  8,  8, 17])"
      ]
     },
     "execution_count": 13,
     "metadata": {},
     "output_type": "execute_result"
    }
   ],
   "source": [
    "X = np.arange(-3, 0)\n",
    "Y = np.arange(0, 3)\n",
    "Z = np.arange(2, 4)\n",
    "np.concatenate([X * X + 2 * X + 6, Y + 6, Z * Z + 4 * Z - 4])\n"
   ]
  },
  {
   "cell_type": "markdown",
   "metadata": {},
   "source": [
    "**8.** Из каждого элемента матрицы вычесть среднее арифметическое от всех элементов в соответствующей строке (после чего среднее значение каждой строки должно равняться нулю).\n",
    "\n",
    "Cм. [np.mean()](http://docs.scipy.org/doc/numpy/reference/generated/numpy.mean.html)."
   ]
  },
  {
   "cell_type": "code",
   "execution_count": 97,
   "metadata": {},
   "outputs": [
    {
     "data": {
      "text/plain": [
       "array([[ 0.33519083, -0.23150702,  0.18401186, -0.30501347,  0.39559013,\n",
       "        -0.17372825, -0.00784975, -0.19887805, -0.22643521,  0.22861893],\n",
       "       [ 0.26563073,  0.23188987,  0.20609189,  0.00144867, -0.53342408,\n",
       "         0.32282022,  0.04876018, -0.09281949, -0.40655422, -0.04384376],\n",
       "       [-0.05140521,  0.07934736,  0.11172372, -0.2089811 ,  0.05614823,\n",
       "         0.49413396, -0.11443369, -0.42040309, -0.45054309,  0.5044129 ],\n",
       "       [-0.3764457 , -0.38825339,  0.39167522,  0.34723827, -0.15403878,\n",
       "        -0.43211874,  0.42066544,  0.20926879,  0.24530508, -0.26329619],\n",
       "       [ 0.4436326 ,  0.26759425,  0.28331826, -0.15951006, -0.49100534,\n",
       "        -0.18925034, -0.35661069, -0.32350315,  0.42983075,  0.09550372],\n",
       "       [-0.08061663,  0.4342627 , -0.29730621, -0.10811512, -0.01327284,\n",
       "         0.0036578 ,  0.493125  ,  0.18637718, -0.30566558, -0.31244631],\n",
       "       [-0.07749747, -0.09400471,  0.40298208, -0.47225862,  0.07379716,\n",
       "         0.20947608, -0.2408191 ,  0.37866896, -0.0172929 , -0.16305148],\n",
       "       [ 0.22798595, -0.17850268, -0.11175745, -0.00587164, -0.40909187,\n",
       "        -0.26467325,  0.1399298 , -0.34721355,  0.43036821,  0.51882647],\n",
       "       [ 0.19277862,  0.20876478,  0.07043419,  0.08665455, -0.45101341,\n",
       "        -0.27971997,  0.09298323, -0.13841472, -0.10524791,  0.32278064],\n",
       "       [-0.26117767, -0.06997318, -0.16131399,  0.19246192, -0.06237166,\n",
       "         0.07823337,  0.22267675,  0.20792925,  0.3474417 , -0.4939065 ]])"
      ]
     },
     "execution_count": 97,
     "metadata": {},
     "output_type": "execute_result"
    }
   ],
   "source": [
    "X = np.random.random((10, 10))\n",
    "average = np.transpose(np.ones((10, 10)) * X.mean(axis=1))\n",
    "X - average"
   ]
  },
  {
   "cell_type": "markdown",
   "metadata": {},
   "source": [
    "**9.** Есть массив из 1000 чисел, полученных из генератора случайных чисел, имеющий нормальное распределение. Посчитайте выборочное среднее и выборочную дисперсию. "
   ]
  },
  {
   "cell_type": "code",
   "execution_count": 42,
   "metadata": {},
   "outputs": [
    {
     "name": "stdout",
     "output_type": "stream",
     "text": [
      "4.950680666134494 4.0950311715197\n"
     ]
    }
   ],
   "source": [
    "X = np.random.normal(loc=5, scale=2., size=1000)\n",
    "mean = np.sum(X)/len(X)\n",
    "disp = np.sum(X * X)/len(X) - mean * mean\n",
    "print(mean, disp)"
   ]
  },
  {
   "cell_type": "markdown",
   "metadata": {},
   "source": [
    "**10.** Создать матрицу:\n",
    "\n",
    "$$\n",
    "\\begin{pmatrix}\n",
    "0 & 1 & 2 & 3 & 4 \\\\\n",
    "1 & 2 & 3 & 4 & 0 \\\\\n",
    "2 & 3 & 4 & 0 & 1 \\\\\n",
    "3 & 4 & 0 & 1 & 2 \\\\\n",
    "4 & 0 & 1 & 2 & 3\n",
    "\\end{pmatrix}\n",
    "$$"
   ]
  },
  {
   "cell_type": "code",
   "execution_count": 163,
   "metadata": {},
   "outputs": [
    {
     "data": {
      "text/plain": [
       "array([[0, 1, 2, 3, 4],\n",
       "       [1, 2, 3, 4, 0],\n",
       "       [2, 3, 4, 0, 1],\n",
       "       [3, 4, 0, 1, 2],\n",
       "       [4, 0, 1, 2, 3]])"
      ]
     },
     "execution_count": 163,
     "metadata": {},
     "output_type": "execute_result"
    }
   ],
   "source": [
    "D = np.concatenate((np.arange(0, 5, 2), np.arange(1, 5, 2), np.arange(0, 5, 2), np.arange(1, 5, 2)), axis=0)\n",
    "np.diag(D[0:5], k=0) + np.diag(D[3:7], k=1) + np.diag(D[3:7], k=-1) + \\\n",
    "np.diag(D[1:4], k=2) + np.diag(D[1:4], k=-2) + np.diag(D[4:6], k=3) + np.diag(D[4:6], k=-3) + \\\n",
    "np.diag(D[2:3], k=4) + np.diag(D[2:3], k=-4)"
   ]
  }
 ],
 "metadata": {
  "kernelspec": {
   "display_name": "Python 3",
   "language": "python",
   "name": "python3"
  },
  "language_info": {
   "codemirror_mode": {
    "name": "ipython",
    "version": 3
   },
   "file_extension": ".py",
   "mimetype": "text/x-python",
   "name": "python",
   "nbconvert_exporter": "python",
   "pygments_lexer": "ipython3",
   "version": "3.6.4"
  }
 },
 "nbformat": 4,
 "nbformat_minor": 2
}
