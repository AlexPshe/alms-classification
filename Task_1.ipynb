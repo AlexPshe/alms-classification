{
 "cells": [
  {
   "cell_type": "markdown",
   "metadata": {},
   "source": [
    "# Задание 1\n",
    "\n",
    "[Свертка списка](https://ru.wikipedia.org/wiki/%D0%A1%D0%B2%D1%91%D1%80%D1%82%D0%BA%D0%B0_%D1%81%D0%BF%D0%B8%D1%81%D0%BA%D0%B0) -  это обобщенная операция над списком, c помощью которой можно преобразовать список в единое значение. Например, рассмотрим реализации свертки слева и свертки справа (левоассоциативную свертку и правоассоциативную свертку):"
   ]
  },
  {
   "cell_type": "code",
   "execution_count": 33,
   "metadata": {},
   "outputs": [],
   "source": [
    "def foldl(f, x0, lst):\n",
    "    if not lst:\n",
    "        return x0\n",
    "    return foldl(f, f(x0, lst[0]), lst[1:])\n",
    "\n",
    "def foldr(f, x0, lst):\n",
    "    if not lst:\n",
    "        return x0\n",
    "    return f(lst[0], foldr(f, x0, lst[1:]))"
   ]
  },
  {
   "cell_type": "code",
   "execution_count": 8,
   "metadata": {},
   "outputs": [
    {
     "name": "stdout",
     "output_type": "stream",
     "text": [
      "sabc\n"
     ]
    },
    {
     "data": {
      "text/plain": [
       "'abcs'"
      ]
     },
     "execution_count": 8,
     "metadata": {},
     "output_type": "execute_result"
    }
   ],
   "source": [
    "#сумма\n",
    "foldl(lambda x, y: x + y, 's', ['a', 'b', 'c'])"
   ]
  },
  {
   "cell_type": "code",
   "execution_count": 4,
   "metadata": {},
   "outputs": [
    {
     "data": {
      "text/plain": [
       "'123'"
      ]
     },
     "execution_count": 4,
     "metadata": {},
     "output_type": "execute_result"
    }
   ],
   "source": [
    "#конкатенация\n",
    "foldl(lambda x, y: '{}{}'.format(x, y), '', [1, 2, 3])"
   ]
  },
  {
   "cell_type": "markdown",
   "metadata": {},
   "source": [
    "Задача: реализовать foldl через foldr и наоборот. Вместо многоточий нужно вставить выражения, которые бы привели к нужному результату."
   ]
  },
  {
   "cell_type": "code",
   "execution_count": 65,
   "metadata": {},
   "outputs": [],
   "source": [
    "def foldl2(f, x0, lst):\n",
    "    return foldr(lambda t, k: f(k, t), x0, lst[::-1])"
   ]
  },
  {
   "cell_type": "code",
   "execution_count": 57,
   "metadata": {},
   "outputs": [],
   "source": [
    "def foldr2(f, x0, lst):\n",
    "    return foldl(lambda t, k: f(k, t), x0, lst[::-1])"
   ]
  },
  {
   "cell_type": "markdown",
   "metadata": {},
   "source": [
    "# Задание 2\n",
    "\n",
    "нужно написать функцию, которая принимает две строки и проверяет, входит ли хотя бы одна перестановка второй строки в первую. Например:\n",
    "\n",
    "> a = 'abcrotm'\n",
    "> \n",
    "> b = 'tro'\n",
    "\n",
    "функция def check_inv(a, b) вернет True, так как 'rot' содержится в 'abcrotm'. Нужно подумать как можно более оптимальный алгоритм и оценить его сложность. "
   ]
  },
  {
   "cell_type": "code",
   "execution_count": 2,
   "metadata": {},
   "outputs": [],
   "source": [
    "# O(len(a)*len(b))\n",
    "def check_inv(a, b):\n",
    "    b_orid = b\n",
    "    for sym in a:\n",
    "        if sym in b_orid:\n",
    "            count += 1\n",
    "            b_orid = b_orid.replace(sym, '')\n",
    "        else:\n",
    "            count = 0\n",
    "            b_orid = b\n",
    "        if count == len(b):\n",
    "            return True\n",
    "    return False"
   ]
  },
  {
   "cell_type": "markdown",
   "metadata": {},
   "source": [
    "# Задание 3\n",
    "\n",
    "Реализовать бинарное дерево (класс Tree), в нём методы __repr__, __str__, __iter__ (итерация только по листьям)."
   ]
  },
  {
   "cell_type": "code",
   "execution_count": 42,
   "metadata": {},
   "outputs": [
    {
     "name": "stdout",
     "output_type": "stream",
     "text": [
      "[[[3], [4]], [2]]\n",
      "<bound method Tree.__repr__ of Tree [value: 0; left: Tree [1]; right: Tree [2]]>\n"
     ]
    }
   ],
   "source": [
    "class Tree:\n",
    "    def __init__(self, value=None, left=None, right=None):\n",
    "        self.left = left\n",
    "        self.right = right\n",
    "        self.value = value\n",
    "\n",
    "    def __iter__(self):\n",
    "        if self.left is not None:\n",
    "            yield list(self.left)\n",
    "        if self.right is not None:\n",
    "            yield list(self.right)\n",
    "        if self.left is None and self.right is None:\n",
    "            yield self.value\n",
    "\n",
    "    def __str__(self):\n",
    "        return 'Tree [' + str(self.value) + ']'\n",
    "\n",
    "    def __repr__(self):\n",
    "        return 'Tree [' + 'value: ' + str(self.value) + '; left: ' + str(\n",
    "            self.left) + '; right: ' + str(self.right) + ']'\n",
    "\n",
    "\n",
    "tree = Tree(0, Tree(1, Tree(3), Tree(4)), Tree(2))\n",
    "\n",
    "print(list(tree))\n",
    "print(tree.__repr__)"
   ]
  },
  {
   "cell_type": "markdown",
   "metadata": {},
   "source": [
    "# Задание 4\n",
    "\n",
    "Реализовать простейший калькулятор математических выражений:\n",
    "- только целые числа\n",
    "- **+**, **\\-**, **\\***, **\\**\n",
    "- скобки\n",
    "\n",
    "**Можно использовать регулярные выражения**"
   ]
  },
  {
   "cell_type": "code",
   "execution_count": 40,
   "metadata": {},
   "outputs": [
    {
     "data": {
      "text/plain": [
       "True"
      ]
     },
     "execution_count": 40,
     "metadata": {},
     "output_type": "execute_result"
    }
   ],
   "source": [
    "from operator import add, mul, sub, truediv\n",
    "\n",
    "\n",
    "def calc(expr):\n",
    "    opers = {'+': add, '*': mul, '-': sub, '/': truediv}\n",
    "    # preprocessing brackets\n",
    "    ind = 0\n",
    "    count = 0\n",
    "    flag = 0\n",
    "    start = -1\n",
    "    while ind < len(expr):\n",
    "        if expr[ind] == '(':\n",
    "            count += 1\n",
    "            if not flag:\n",
    "                start = ind\n",
    "                flag = 1\n",
    "        if expr[ind] == ')':\n",
    "            count -= 1\n",
    "            if not count and flag:\n",
    "                new_str = str(calc(expr[start+1:ind]))\n",
    "                expr = expr[0:start] + new_str + expr[ind+1:len(expr)]\n",
    "                ind = start + len(new_str) - 1\n",
    "                flag = 0\n",
    "        ind += 1\n",
    "    # preprocessing *, /\n",
    "    copy_expr = expr.split(' ')\n",
    "    ind = 0\n",
    "    while ind < len(copy_expr):\n",
    "        if copy_expr[ind] in {'*', '/'}:\n",
    "            copy_expr[ind-1] = opers[copy_expr[ind]](int(copy_expr[ind-1]), int(copy_expr[ind+1]))\n",
    "            copy_expr.pop(ind)\n",
    "            copy_expr.pop(ind)\n",
    "            ind -= 1\n",
    "        ind += 1\n",
    "    # preprocessing +, -\n",
    "    count = int(copy_expr[0])\n",
    "    ind = 1\n",
    "    while ind < len(copy_expr):\n",
    "        count = opers[copy_expr[ind]](count, int(copy_expr[ind+1]))\n",
    "        ind += 2\n",
    "    return count\n",
    "\n",
    "\n",
    "calc('2 * (15 - 3 * 4) - 2') == 4"
   ]
  }
 ],
 "metadata": {
  "kernelspec": {
   "display_name": "Python 3",
   "language": "python",
   "name": "python3"
  },
  "language_info": {
   "codemirror_mode": {
    "name": "ipython",
    "version": 3
   },
   "file_extension": ".py",
   "mimetype": "text/x-python",
   "name": "python",
   "nbconvert_exporter": "python",
   "pygments_lexer": "ipython3",
   "version": "3.6.4"
  }
 },
 "nbformat": 4,
 "nbformat_minor": 2
}
